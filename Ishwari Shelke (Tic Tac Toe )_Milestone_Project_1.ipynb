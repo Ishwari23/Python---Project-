{
 "cells": [
  {
   "cell_type": "markdown",
   "metadata": {
    "id": "fLyyDwfjdzYB"
   },
   "source": [
    "# Milestone Project 1: Walkthrough Steps Workbook\n",
    "\n",
    "Below is a set of steps for you to follow to try to create the Tic Tac Toe Milestone Project game!"
   ]
  },
  {
   "cell_type": "markdown",
   "metadata": {
    "id": "Lm0N1oObdzYH"
   },
   "source": [
    "#### Some suggested tools before you get started:\n",
    "To take input from a user:\n",
    "\n",
    "    player1 = input(\"Please pick a marker 'X' or 'O'\")\n",
    "    \n",
    "Note that input() takes in a string. If you need an integer value, use\n",
    "\n",
    "    position = int(input('Please enter a number'))\n",
    "    \n",
    "<br>To clear the screen between moves:\n",
    "\n",
    "    from IPython.display import clear_output\n",
    "    clear_output()\n",
    "    \n",
    "Note that clear_output() will only work in jupyter. To clear the screen in other IDEs, consider:\n",
    "\n",
    "    print('\\n'*100)\n",
    "    \n",
    "This scrolls the previous board up out of view. Now on to the program!"
   ]
  },
  {
   "cell_type": "markdown",
   "metadata": {
    "id": "Wm2iVbdYdzYI"
   },
   "source": [
    "**Step 1: Write a function that can print out a board. Set up your board as a list, where each index 1-9 corresponds with a number on a number pad, so you get a 3 by 3 board representation.**"
   ]
  },
  {
   "cell_type": "code",
   "execution_count": 23,
   "metadata": {
    "id": "XbB0Sm5wdzYJ",
    "tags": []
   },
   "outputs": [],
   "source": [
    "from IPython.display import clear_output\n",
    "\n",
    "def display_board(board):\n",
    "    clear_output()  \n",
    "    print(f\"{board[7]} | {board[8]} | {board[9]}\")\n",
    "    print(\"--|---|--\")\n",
    "    print(f\"{board[4]} | {board[5]} | {board[6]}\")\n",
    "    print(\"--|---|--\")\n",
    "    print(f\"{board[1]} | {board[2]} | {board[3]}\")\n",
    "\n",
    "    pass"
   ]
  },
  {
   "cell_type": "markdown",
   "metadata": {
    "id": "rQ7Z7EpbdzYK"
   },
   "source": [
    "**TEST Step 1:** run your function on a test version of the board list, and make adjustments as necessary"
   ]
  },
  {
   "cell_type": "code",
   "execution_count": 24,
   "metadata": {
    "id": "jL35OLrMdzYK",
    "tags": []
   },
   "outputs": [
    {
     "name": "stdout",
     "output_type": "stream",
     "text": [
      "  |   |  \n",
      "--|---|--\n",
      "  |   |  \n",
      "--|---|--\n",
      "  |   |  \n"
     ]
    }
   ],
   "source": [
    "test_board = ['#',' ', ' ', ' ', ' ', ' ', ' ', ' ', ' ', ' ']\n",
    "display_board(test_board)"
   ]
  },
  {
   "cell_type": "markdown",
   "metadata": {
    "id": "C2yseHCpdzYL"
   },
   "source": [
    "**Step 2: Write a function that can take in a player input and assign their marker as 'X' or 'O'. Think about using *while* loops to continually ask until you get a correct answer.**"
   ]
  },
  {
   "cell_type": "code",
   "execution_count": 25,
   "metadata": {
    "id": "5jepx9r9dzYL",
    "tags": []
   },
   "outputs": [],
   "source": [
    "def player_input():\n",
    "    marker = ''\n",
    "    while marker not in ['X', 'O']:\n",
    "        marker = input(\"Player 1, choose X or O: \").upper()\n",
    "    player1 = marker\n",
    "    player2 = 'O' if player1 == 'X' else 'X'\n",
    "    return player1, player2\n",
    "    \n",
    "    pass"
   ]
  },
  {
   "cell_type": "markdown",
   "metadata": {
    "id": "Dndxn7OZdzYM"
   },
   "source": [
    "**TEST Step 2:** run the function to make sure it returns the desired output"
   ]
  },
  {
   "cell_type": "code",
   "execution_count": 26,
   "metadata": {
    "id": "h4ECUUtRdzYM",
    "tags": []
   },
   "outputs": [
    {
     "name": "stdin",
     "output_type": "stream",
     "text": [
      "Player 1, choose X or O:  X\n"
     ]
    },
    {
     "data": {
      "text/plain": [
       "('X', 'O')"
      ]
     },
     "execution_count": 26,
     "metadata": {},
     "output_type": "execute_result"
    }
   ],
   "source": [
    "player_input()"
   ]
  },
  {
   "cell_type": "markdown",
   "metadata": {
    "id": "GJqWgNUAdzYN"
   },
   "source": [
    "**Step 3: Write a function that takes in the board list object, a marker ('X' or 'O'), and a desired position (number 1-9) and assigns it to the board.**"
   ]
  },
  {
   "cell_type": "code",
   "execution_count": 27,
   "metadata": {
    "id": "mxFCEDHhdzYN",
    "tags": []
   },
   "outputs": [],
   "source": [
    "def place_marker(board, marker, position):\n",
    "    board[position] = marker\n",
    "\n",
    "    pass"
   ]
  },
  {
   "cell_type": "markdown",
   "metadata": {
    "id": "tJ6oFWzhdzYN"
   },
   "source": [
    "**TEST Step 3:** run the place marker function using test parameters and display the modified board"
   ]
  },
  {
   "cell_type": "code",
   "execution_count": 28,
   "metadata": {},
   "outputs": [
    {
     "name": "stdout",
     "output_type": "stream",
     "text": [
      "  |   |  \n",
      "--|---|--\n",
      "  | X |  \n",
      "--|---|--\n",
      "  |   |  \n"
     ]
    }
   ],
   "source": [
    "place_marker(test_board, 'X', 5)\n",
    "display_board(test_board)"
   ]
  },
  {
   "cell_type": "markdown",
   "metadata": {
    "id": "JembYwMUdzYO"
   },
   "source": [
    "**Step 4: Write a function that takes in a board and a mark (X or O) and then checks to see if that mark has won. **"
   ]
  },
  {
   "cell_type": "code",
   "execution_count": 29,
   "metadata": {
    "id": "TSQUCQCIdzYO",
    "tags": []
   },
   "outputs": [],
   "source": [
    "def win_check(board, mark):\n",
    "    return ((board[7] == board[8] == board[9] == mark) or  # Top row\n",
    "            (board[4] == board[5] == board[6] == mark) or  # Middle row\n",
    "            (board[1] == board[2] == board[3] == mark) or  # Bottom row\n",
    "            (board[7] == board[4] == board[1] == mark) or  # Left column\n",
    "            (board[8] == board[5] == board[2] == mark) or  # Middle column\n",
    "            (board[9] == board[6] == board[3] == mark) or  # Right column\n",
    "            (board[7] == board[5] == board[3] == mark) or  # Diagonal\n",
    "            (board[9] == board[5] == board[1] == mark))    # Diagonal\n",
    "\n",
    "    pass\n",
    "    "
   ]
  },
  {
   "cell_type": "markdown",
   "metadata": {
    "id": "OvPrWpNFdzYO"
   },
   "source": [
    "**TEST Step 4:** run the win_check function against our test_board - it should return True"
   ]
  },
  {
   "cell_type": "code",
   "execution_count": 30,
   "metadata": {
    "id": "lEHNJFEldzYO",
    "tags": []
   },
   "outputs": [
    {
     "data": {
      "text/plain": [
       "False"
      ]
     },
     "execution_count": 30,
     "metadata": {},
     "output_type": "execute_result"
    }
   ],
   "source": [
    "win_check(test_board,'X')"
   ]
  },
  {
   "cell_type": "markdown",
   "metadata": {
    "id": "xn-EID-5dzYO"
   },
   "source": [
    "**Step 5: Write a function that uses the random module to randomly decide which player goes first. You may want to lookup random.randint() Return a string of which player went first.**"
   ]
  },
  {
   "cell_type": "code",
   "execution_count": 38,
   "metadata": {
    "id": "rFTsRmVcdzYP",
    "tags": []
   },
   "outputs": [],
   "source": [
    "import random\n",
    "\n",
    "def choose_first():\n",
    "    return \"Player 1\" if random.randint(0, 1) == 0 else \"Player 2\"\n",
    "\n",
    "    pass"
   ]
  },
  {
   "cell_type": "code",
   "execution_count": 40,
   "metadata": {},
   "outputs": [
    {
     "data": {
      "text/plain": [
       "'Player 1'"
      ]
     },
     "execution_count": 40,
     "metadata": {},
     "output_type": "execute_result"
    }
   ],
   "source": [
    "choose_first()"
   ]
  },
  {
   "cell_type": "markdown",
   "metadata": {
    "id": "vaSWym4odzYP"
   },
   "source": [
    "**Step 6: Write a function that returns a boolean indicating whether a space on the board is freely available.**"
   ]
  },
  {
   "cell_type": "code",
   "execution_count": 41,
   "metadata": {
    "id": "5tNmekrXdzYP",
    "tags": []
   },
   "outputs": [],
   "source": [
    "def space_check(board, position):\n",
    "    return board[position] == ' '\n",
    "\n",
    "    pass"
   ]
  },
  {
   "cell_type": "code",
   "execution_count": 42,
   "metadata": {},
   "outputs": [
    {
     "data": {
      "text/plain": [
       "True"
      ]
     },
     "execution_count": 42,
     "metadata": {},
     "output_type": "execute_result"
    }
   ],
   "source": [
    "space_check(test_board, 3)"
   ]
  },
  {
   "cell_type": "markdown",
   "metadata": {
    "id": "cZ5urekwdzYP"
   },
   "source": [
    "**Step 7: Write a function that checks if the board is full and returns a boolean value. True if full, False otherwise.**"
   ]
  },
  {
   "cell_type": "code",
   "execution_count": 43,
   "metadata": {
    "id": "tN1skTNGdzYP",
    "tags": []
   },
   "outputs": [],
   "source": [
    "def full_board_check(board):\n",
    "    return all(space != ' ' for space in board[1:])\n",
    "\n",
    "    pass"
   ]
  },
  {
   "cell_type": "code",
   "execution_count": 44,
   "metadata": {},
   "outputs": [
    {
     "data": {
      "text/plain": [
       "False"
      ]
     },
     "execution_count": 44,
     "metadata": {},
     "output_type": "execute_result"
    }
   ],
   "source": [
    "full_board_check(test_board)"
   ]
  },
  {
   "cell_type": "markdown",
   "metadata": {
    "id": "q1tJOcs-dzYQ"
   },
   "source": [
    "**Step 8: Write a function that asks for a player's next position (as a number 1-9) and then uses the function from step 6 to check if it's a free position. If it is, then return the position for later use.**"
   ]
  },
  {
   "cell_type": "code",
   "execution_count": 45,
   "metadata": {
    "id": "zq_AsWKGdzYQ",
    "tags": []
   },
   "outputs": [],
   "source": [
    "def player_choice(board):\n",
    "    position = 0\n",
    "    while position not in range(1, 10) or not space_check(board, position):\n",
    "        try:\n",
    "            position = int(input(\"Choose your next position (1-9): \"))\n",
    "        except ValueError:\n",
    "            print(\"Invalid input. Enter a number between 1-9.\")\n",
    "    return position\n",
    "    "
   ]
  },
  {
   "cell_type": "code",
   "execution_count": 46,
   "metadata": {},
   "outputs": [
    {
     "name": "stdin",
     "output_type": "stream",
     "text": [
      "Choose your next position (1-9):  3\n"
     ]
    },
    {
     "data": {
      "text/plain": [
       "3"
      ]
     },
     "execution_count": 46,
     "metadata": {},
     "output_type": "execute_result"
    }
   ],
   "source": [
    "player_choice(test_board)"
   ]
  },
  {
   "cell_type": "markdown",
   "metadata": {
    "id": "HiQRQm_WdzYQ"
   },
   "source": [
    "**Step 9: Write a function that asks the player if they want to play again and returns a boolean True if they do want to play again.**"
   ]
  },
  {
   "cell_type": "code",
   "execution_count": 47,
   "metadata": {
    "id": "LZgYrMaCdzYQ",
    "tags": []
   },
   "outputs": [],
   "source": [
    "def replay():\n",
    "    return input(\"Do you want to play again? Enter Yes or No: \").lower().startswith('y')\n",
    "\n",
    "\n",
    "    pass"
   ]
  },
  {
   "cell_type": "code",
   "execution_count": 48,
   "metadata": {},
   "outputs": [
    {
     "name": "stdin",
     "output_type": "stream",
     "text": [
      "Do you want to play again? Enter Yes or No:  Yes\n"
     ]
    },
    {
     "data": {
      "text/plain": [
       "True"
      ]
     },
     "execution_count": 48,
     "metadata": {},
     "output_type": "execute_result"
    }
   ],
   "source": [
    "replay()"
   ]
  },
  {
   "cell_type": "markdown",
   "metadata": {
    "id": "jm0Tv6okdzYQ"
   },
   "source": [
    "**Step 10: Here comes the hard part! Use while loops and the functions you've made to run the game!**"
   ]
  },
  {
   "cell_type": "code",
   "execution_count": 49,
   "metadata": {},
   "outputs": [
    {
     "name": "stdout",
     "output_type": "stream",
     "text": [
      "X |   |  \n",
      "--|---|--\n",
      "  | X | O\n",
      "--|---|--\n",
      "  | O | X\n",
      "Player 1 has won!\n"
     ]
    },
    {
     "name": "stdin",
     "output_type": "stream",
     "text": [
      "Do you want to play again? Enter Yes or No:  No\n"
     ]
    }
   ],
   "source": [
    "print(\"Welcome to Tic Tac Toe!\")\n",
    "\n",
    "while True:\n",
    "    # Setup\n",
    "    the_board = ['#'] + [' '] * 9\n",
    "    player1_marker, player2_marker = player_input()\n",
    "    turn = choose_first()\n",
    "    print(turn + \" will go first.\")\n",
    "\n",
    "    play_game = input(\"Are you ready to play? Enter Yes or No: \").lower().startswith('y')\n",
    "\n",
    "    if not play_game:\n",
    "        break\n",
    "\n",
    "    while True:\n",
    "        display_board(the_board)\n",
    "        print(turn + \"'s turn.\")\n",
    "        \n",
    "        # Choose the right player's marker\n",
    "        current_marker = player1_marker if turn == \"Player 1\" else player2_marker\n",
    "        position = player_choice(the_board)\n",
    "        place_marker(the_board, current_marker, position)\n",
    "\n",
    "        if win_check(the_board, current_marker):\n",
    "            display_board(the_board)\n",
    "            print(turn + \" has won!\")\n",
    "            break\n",
    "\n",
    "        if full_board_check(the_board):\n",
    "            display_board(the_board)\n",
    "            print(\"The game is a draw!\")\n",
    "            break\n",
    "\n",
    "        # Switch turn\n",
    "        turn = \"Player 2\" if turn == \"Player 1\" else \"Player 1\"\n",
    "\n",
    "    if not replay():\n",
    "        break"
   ]
  },
  {
   "cell_type": "markdown",
   "metadata": {
    "id": "gfOn8OkNdzYQ"
   },
   "source": [
    "## Good Job!"
   ]
  }
 ],
 "metadata": {
  "colab": {
   "provenance": []
  },
  "kernelspec": {
   "display_name": "Python 3 (ipykernel)",
   "language": "python",
   "name": "python3"
  },
  "language_info": {
   "codemirror_mode": {
    "name": "ipython",
    "version": 3
   },
   "file_extension": ".py",
   "mimetype": "text/x-python",
   "name": "python",
   "nbconvert_exporter": "python",
   "pygments_lexer": "ipython3",
   "version": "3.9.13"
  }
 },
 "nbformat": 4,
 "nbformat_minor": 4
}
